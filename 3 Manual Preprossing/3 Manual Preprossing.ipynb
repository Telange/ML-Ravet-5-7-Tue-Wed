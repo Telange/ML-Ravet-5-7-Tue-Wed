{
 "cells": [
  {
   "cell_type": "markdown",
   "metadata": {},
   "source": [
    "### Manual Preprocessing"
   ]
  },
  {
   "cell_type": "markdown",
   "metadata": {},
   "source": [
    "### 1.Clean the data"
   ]
  },
  {
   "cell_type": "markdown",
   "metadata": {},
   "source": [
    "### 2.Convert text columns to numerical form (Transform data)"
   ]
  },
  {
   "cell_type": "code",
   "execution_count": 1,
   "metadata": {},
   "outputs": [],
   "source": [
    "from warnings import filterwarnings\n",
    "filterwarnings(\"ignore\")"
   ]
  },
  {
   "cell_type": "markdown",
   "metadata": {},
   "source": [
    "### Step 1 - Data Ingestion"
   ]
  },
  {
   "cell_type": "markdown",
   "metadata": {},
   "source": [
    "### Read the csv file"
   ]
  },
  {
   "attachments": {
    "image.png": {
     "image/png": "[encoded data removed]"
    }
   },
   "cell_type": "markdown",
   "metadata": {},
   "source": [
    "![image.png](attachment:image.png)"
   ]
  },
  {
   "cell_type": "code",
   "execution_count": 2,
   "metadata": {},
   "outputs": [
    {
     "data": {
      "text/html": [
       "<div>\n",
       "<style scoped>\n",
       "    .dataframe tbody tr th:only-of-type {\n",
       "        vertical-align: middle;\n",
       "    }\n",
       "\n",
       "    .dataframe tbody tr th {\n",
       "        vertical-align: top;\n",
       "    }\n",
       "\n",
       "    .dataframe thead th {\n",
       "        text-align: right;\n",
       "    }\n",
       "</style>\n",
       "<table border=\"1\" class=\"dataframe\">\n",
       "  <thead>\n",
       "    <tr style=\"text-align: right;\">\n",
       "      <th></th>\n",
       "      <th>id</th>\n",
       "      <th>Manufacturer</th>\n",
       "      <th>Model</th>\n",
       "      <th>Type</th>\n",
       "      <th>Min.Price</th>\n",
       "      <th>Price</th>\n",
       "      <th>Max.Price</th>\n",
       "      <th>MPG.city</th>\n",
       "      <th>MPG.highway</th>\n",
       "      <th>AirBags</th>\n",
       "      <th>...</th>\n",
       "      <th>Passengers</th>\n",
       "      <th>Length</th>\n",
       "      <th>Wheelbase</th>\n",
       "      <th>Width</th>\n",
       "      <th>Turn.circle</th>\n",
       "      <th>Rear.seat.room</th>\n",
       "      <th>Luggage.room</th>\n",
       "      <th>Weight</th>\n",
       "      <th>Origin</th>\n",
       "      <th>Make</th>\n",
       "    </tr>\n",
       "  </thead>\n",
       "  <tbody>\n",
       "    <tr>\n",
       "      <th>0</th>\n",
       "      <td>1</td>\n",
       "      <td>Acura</td>\n",
       "      <td>Integra</td>\n",
       "      <td>Small</td>\n",
       "      <td>12.9</td>\n",
       "      <td>15.9</td>\n",
       "      <td>18.8</td>\n",
       "      <td>25</td>\n",
       "      <td>31</td>\n",
       "      <td>None</td>\n",
       "      <td>...</td>\n",
       "      <td>5</td>\n",
       "      <td>177</td>\n",
       "      <td>102</td>\n",
       "      <td>68</td>\n",
       "      <td>37</td>\n",
       "      <td>26.5</td>\n",
       "      <td>11.0</td>\n",
       "      <td>2705</td>\n",
       "      <td>non-USA</td>\n",
       "      <td>Acura Integra</td>\n",
       "    </tr>\n",
       "    <tr>\n",
       "      <th>1</th>\n",
       "      <td>2</td>\n",
       "      <td>Acura</td>\n",
       "      <td>Legend</td>\n",
       "      <td>Midsize</td>\n",
       "      <td>29.2</td>\n",
       "      <td>33.9</td>\n",
       "      <td>38.7</td>\n",
       "      <td>18</td>\n",
       "      <td>25</td>\n",
       "      <td>Driver &amp; Passenger</td>\n",
       "      <td>...</td>\n",
       "      <td>5</td>\n",
       "      <td>195</td>\n",
       "      <td>115</td>\n",
       "      <td>71</td>\n",
       "      <td>38</td>\n",
       "      <td>30.0</td>\n",
       "      <td>15.0</td>\n",
       "      <td>3560</td>\n",
       "      <td>non-USA</td>\n",
       "      <td>Acura Legend</td>\n",
       "    </tr>\n",
       "    <tr>\n",
       "      <th>2</th>\n",
       "      <td>3</td>\n",
       "      <td>Audi</td>\n",
       "      <td>90</td>\n",
       "      <td>Compact</td>\n",
       "      <td>25.9</td>\n",
       "      <td>29.1</td>\n",
       "      <td>32.3</td>\n",
       "      <td>20</td>\n",
       "      <td>26</td>\n",
       "      <td>Driver only</td>\n",
       "      <td>...</td>\n",
       "      <td>5</td>\n",
       "      <td>180</td>\n",
       "      <td>102</td>\n",
       "      <td>67</td>\n",
       "      <td>37</td>\n",
       "      <td>28.0</td>\n",
       "      <td>14.0</td>\n",
       "      <td>3375</td>\n",
       "      <td>non-USA</td>\n",
       "      <td>Audi 90</td>\n",
       "    </tr>\n",
       "    <tr>\n",
       "      <th>3</th>\n",
       "      <td>4</td>\n",
       "      <td>Audi</td>\n",
       "      <td>100</td>\n",
       "      <td>Midsize</td>\n",
       "      <td>30.8</td>\n",
       "      <td>37.7</td>\n",
       "      <td>44.6</td>\n",
       "      <td>19</td>\n",
       "      <td>26</td>\n",
       "      <td>NaN</td>\n",
       "      <td>...</td>\n",
       "      <td>6</td>\n",
       "      <td>193</td>\n",
       "      <td>106</td>\n",
       "      <td>70</td>\n",
       "      <td>37</td>\n",
       "      <td>31.0</td>\n",
       "      <td>17.0</td>\n",
       "      <td>3405</td>\n",
       "      <td>non-USA</td>\n",
       "      <td>Audi 100</td>\n",
       "    </tr>\n",
       "    <tr>\n",
       "      <th>4</th>\n",
       "      <td>5</td>\n",
       "      <td>BMW</td>\n",
       "      <td>535i</td>\n",
       "      <td>Midsize</td>\n",
       "      <td>23.7</td>\n",
       "      <td>30.0</td>\n",
       "      <td>36.2</td>\n",
       "      <td>22</td>\n",
       "      <td>30</td>\n",
       "      <td>Driver only</td>\n",
       "      <td>...</td>\n",
       "      <td>4</td>\n",
       "      <td>186</td>\n",
       "      <td>109</td>\n",
       "      <td>69</td>\n",
       "      <td>39</td>\n",
       "      <td>27.0</td>\n",
       "      <td>13.0</td>\n",
       "      <td>3640</td>\n",
       "      <td>non-USA</td>\n",
       "      <td>BMW 535i</td>\n",
       "    </tr>\n",
       "  </tbody>\n",
       "</table>\n",
       "<p>5 rows × 28 columns</p>\n",
       "</div>"
      ],
      "text/plain": [
       "   id Manufacturer    Model     Type  Min.Price  Price  Max.Price  MPG.city  \\\n",
       "0   1        Acura  Integra    Small       12.9   15.9       18.8        25   \n",
       "1   2        Acura   Legend  Midsize       29.2   33.9       38.7        18   \n",
       "2   3         Audi       90  Compact       25.9   29.1       32.3        20   \n",
       "3   4         Audi      100  Midsize       30.8   37.7       44.6        19   \n",
       "4   5          BMW     535i  Midsize       23.7   30.0       36.2        22   \n",
       "\n",
       "   MPG.highway             AirBags  ... Passengers Length  Wheelbase  Width  \\\n",
       "0           31                None  ...          5    177        102     68   \n",
       "1           25  Driver & Passenger  ...          5    195        115     71   \n",
       "2           26         Driver only  ...          5    180        102     67   \n",
       "3           26                 NaN  ...          6    193        106     70   \n",
       "4           30         Driver only  ...          4    186        109     69   \n",
       "\n",
       "   Turn.circle  Rear.seat.room Luggage.room  Weight   Origin           Make  \n",
       "0           37            26.5         11.0    2705  non-USA  Acura Integra  \n",
       "1           38            30.0         15.0    3560  non-USA   Acura Legend  \n",
       "2           37            28.0         14.0    3375  non-USA        Audi 90  \n",
       "3           37            31.0         17.0    3405  non-USA       Audi 100  \n",
       "4           39            27.0         13.0    3640  non-USA       BMW 535i  \n",
       "\n",
       "[5 rows x 28 columns]"
      ]
     },
     "execution_count": 2,
     "metadata": {},
     "output_type": "execute_result"
    }
   ],
   "source": [
    "# Apply below method for Cars93 dataset only\n",
    "import pandas as pd\n",
    "df = pd.read_csv(\"Cars93.csv\", na_values=[\"\", \"NA\"], keep_default_na=False)\n",
    "df.head()"
   ]
  },
  {
   "cell_type": "markdown",
   "metadata": {},
   "source": [
    "### Step 2 - Perform basic data quality checks"
   ]
  },
  {
   "cell_type": "code",
   "execution_count": 3,
   "metadata": {},
   "outputs": [
    {
     "name": "stdout",
     "output_type": "stream",
     "text": [
      "<class 'pandas.core.frame.DataFrame'>\n",
      "RangeIndex: 93 entries, 0 to 92\n",
      "Data columns (total 28 columns):\n",
      " #   Column              Non-Null Count  Dtype  \n",
      "---  ------              --------------  -----  \n",
      " 0   id                  93 non-null     int64  \n",
      " 1   Manufacturer        93 non-null     object \n",
      " 2   Model               93 non-null     object \n",
      " 3   Type                93 non-null     object \n",
      " 4   Min.Price           93 non-null     float64\n",
      " 5   Price               93 non-null     float64\n",
      " 6   Max.Price           93 non-null     float64\n",
      " 7   MPG.city            93 non-null     int64  \n",
      " 8   MPG.highway         93 non-null     int64  \n",
      " 9   AirBags             89 non-null     object \n",
      " 10  DriveTrain          93 non-null     object \n",
      " 11  Cylinders           93 non-null     object \n",
      " 12  EngineSize          93 non-null     float64\n",
      " 13  Horsepower          93 non-null     int64  \n",
      " 14  RPM                 93 non-null     int64  \n",
      " 15  Rev.per.mile        93 non-null     int64  \n",
      " 16  Man.trans.avail     93 non-null     object \n",
      " 17  Fuel.tank.capacity  93 non-null     float64\n",
      " 18  Passengers          93 non-null     int64  \n",
      " 19  Length              93 non-null     int64  \n",
      " 20  Wheelbase           93 non-null     int64  \n",
      " 21  Width               93 non-null     int64  \n",
      " 22  Turn.circle         93 non-null     int64  \n",
      " 23  Rear.seat.room      91 non-null     float64\n",
      " 24  Luggage.room        82 non-null     float64\n",
      " 25  Weight              93 non-null     int64  \n",
      " 26  Origin              93 non-null     object \n",
      " 27  Make                93 non-null     object \n",
      "dtypes: float64(7), int64(12), object(9)\n",
      "memory usage: 20.5+ KB\n"
     ]
    }
   ],
   "source": [
    "df.info()"
   ]
  },
  {
   "cell_type": "code",
   "execution_count": 4,
   "metadata": {},
   "outputs": [
    {
     "data": {
      "text/plain": [
       "id                     0\n",
       "Manufacturer           0\n",
       "Model                  0\n",
       "Type                   0\n",
       "Min.Price              0\n",
       "Price                  0\n",
       "Max.Price              0\n",
       "MPG.city               0\n",
       "MPG.highway            0\n",
       "AirBags                4\n",
       "DriveTrain             0\n",
       "Cylinders              0\n",
       "EngineSize             0\n",
       "Horsepower             0\n",
       "RPM                    0\n",
       "Rev.per.mile           0\n",
       "Man.trans.avail        0\n",
       "Fuel.tank.capacity     0\n",
       "Passengers             0\n",
       "Length                 0\n",
       "Wheelbase              0\n",
       "Width                  0\n",
       "Turn.circle            0\n",
       "Rear.seat.room         2\n",
       "Luggage.room          11\n",
       "Weight                 0\n",
       "Origin                 0\n",
       "Make                   0\n",
       "dtype: int64"
      ]
     },
     "execution_count": 4,
     "metadata": {},
     "output_type": "execute_result"
    }
   ],
   "source": [
    "m = df.isna().sum()\n",
    "m"
   ]
  },
  {
   "cell_type": "code",
   "execution_count": 5,
   "metadata": {},
   "outputs": [
    {
     "data": {
      "text/plain": [
       "AirBags            4\n",
       "Rear.seat.room     2\n",
       "Luggage.room      11\n",
       "dtype: int64"
      ]
     },
     "execution_count": 5,
     "metadata": {},
     "output_type": "execute_result"
    }
   ],
   "source": [
    "m[m>0]"
   ]
  },
  {
   "cell_type": "code",
   "execution_count": 6,
   "metadata": {},
   "outputs": [
    {
     "data": {
      "text/plain": [
       "np.int64(0)"
      ]
     },
     "execution_count": 6,
     "metadata": {},
     "output_type": "execute_result"
    }
   ],
   "source": [
    "df.duplicated().sum()"
   ]
  },
  {
   "cell_type": "code",
   "execution_count": null,
   "metadata": {},
   "outputs": [],
   "source": []
  }
 ],
 "metadata": {
  "kernelspec": {
   "display_name": "venv",
   "language": "python",
   "name": "python3"
  },
  "language_info": {
   "codemirror_mode": {
    "name": "ipython",
    "version": 3
   },
   "file_extension": ".py",
   "mimetype": "text/x-python",
   "name": "python",
   "nbconvert_exporter": "python",
   "pygments_lexer": "ipython3",
   "version": "3.11.9"
  }
 },
 "nbformat": 4,
 "nbformat_minor": 2
}
